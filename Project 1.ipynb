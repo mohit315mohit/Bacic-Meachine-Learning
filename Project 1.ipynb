{
 "cells": [
  {
   "cell_type": "code",
   "execution_count": 1,
   "id": "c9fe415f",
   "metadata": {},
   "outputs": [
    {
     "ename": "SyntaxError",
     "evalue": "invalid syntax (796671574.py, line 1)",
     "output_type": "error",
     "traceback": [
      "\u001b[1;36m  Cell \u001b[1;32mIn[1], line 1\u001b[1;36m\u001b[0m\n\u001b[1;33m    *\u001b[0m\n\u001b[1;37m     ^\u001b[0m\n\u001b[1;31mSyntaxError\u001b[0m\u001b[1;31m:\u001b[0m invalid syntax\n"
     ]
    }
   ],
   "source": [
    "*"
   ]
  },
  {
   "cell_type": "markdown",
   "id": "f089b2bd",
   "metadata": {},
   "source": [
    "# 1. Reading the data"
   ]
  },
  {
   "cell_type": "code",
   "execution_count": null,
   "id": "5c4548a3",
   "metadata": {},
   "outputs": [],
   "source": [
    "# importing pandas \n",
    "\n",
    "import pandas as pd"
   ]
  },
  {
   "cell_type": "code",
   "execution_count": null,
   "id": "ac64d2e3",
   "metadata": {},
   "outputs": [],
   "source": [
    "df=pd.read_csv(r\"C:\\Users\\mohit\\OneDrive\\Documents\\Machine learning\\Excle & CSV files\\Titanic.csv\")"
   ]
  },
  {
   "cell_type": "code",
   "execution_count": null,
   "id": "c86b4136",
   "metadata": {},
   "outputs": [],
   "source": [
    "df.shape"
   ]
  },
  {
   "cell_type": "code",
   "execution_count": null,
   "id": "14c15765",
   "metadata": {},
   "outputs": [],
   "source": [
    "df.columns"
   ]
  },
  {
   "cell_type": "code",
   "execution_count": null,
   "id": "1a694d01",
   "metadata": {
    "scrolled": true
   },
   "outputs": [],
   "source": [
    "df.head()"
   ]
  },
  {
   "cell_type": "markdown",
   "id": "d3f34233",
   "metadata": {},
   "source": [
    "#  2. Variable Identification"
   ]
  },
  {
   "cell_type": "code",
   "execution_count": null,
   "id": "a20037da",
   "metadata": {
    "scrolled": true
   },
   "outputs": [],
   "source": [
    "df.dtypes"
   ]
  },
  {
   "cell_type": "markdown",
   "id": "ba618263",
   "metadata": {},
   "source": [
    "# 3. Univariate Analysis"
   ]
  },
  {
   "cell_type": "markdown",
   "id": "4a0fce02",
   "metadata": {},
   "source": [
    "### a. Continuous variables"
   ]
  },
  {
   "cell_type": "code",
   "execution_count": null,
   "id": "731bc97e",
   "metadata": {},
   "outputs": [],
   "source": [
    "# only for continuous variables\n",
    "df.describe()"
   ]
  },
  {
   "cell_type": "code",
   "execution_count": null,
   "id": "51e80829",
   "metadata": {
    "scrolled": true
   },
   "outputs": [],
   "source": [
    "df[\"Age\"].plot.hist()"
   ]
  },
  {
   "cell_type": "code",
   "execution_count": null,
   "id": "3714aae7",
   "metadata": {},
   "outputs": [],
   "source": [
    "import matplotlib.pyplot as plt\n",
    "import seaborn as sns\n",
    "plt.hist(df[\"Age\"])\n",
    "plt.show()\n",
    "sns.histplot(df,x=\"Age\")\n",
    "plt.show()"
   ]
  },
  {
   "cell_type": "code",
   "execution_count": null,
   "id": "dd40dd17",
   "metadata": {},
   "outputs": [],
   "source": [
    "df[\"Age\"].plot.hist()"
   ]
  },
  {
   "cell_type": "code",
   "execution_count": null,
   "id": "85cda327",
   "metadata": {},
   "outputs": [],
   "source": [
    "sns.boxplot(df,x=\"Age\")\n",
    "plt.show()\n"
   ]
  },
  {
   "cell_type": "markdown",
   "id": "eb6e1df9",
   "metadata": {},
   "source": [
    "# Univariate analysis for categorial variables"
   ]
  },
  {
   "cell_type": "code",
   "execution_count": null,
   "id": "a5e57faa",
   "metadata": {},
   "outputs": [],
   "source": [
    "df[\"Sex\"].value_counts()"
   ]
  },
  {
   "cell_type": "code",
   "execution_count": null,
   "id": "40fa042b",
   "metadata": {},
   "outputs": [],
   "source": [
    "df[\"Sex\"].value_counts()/len(df[\"Sex\"])*100"
   ]
  },
  {
   "cell_type": "code",
   "execution_count": null,
   "id": "6039bcd9",
   "metadata": {},
   "outputs": [],
   "source": [
    "sns.barplot(df[\"Sex\"].value_counts())\n",
    "plt.show()"
   ]
  },
  {
   "cell_type": "code",
   "execution_count": null,
   "id": "34c3e388",
   "metadata": {},
   "outputs": [],
   "source": [
    "sns.barplot(df[\"Sex\"].value_counts()/len(df[\"Sex\"])*100)\n",
    "plt.show()"
   ]
  },
  {
   "cell_type": "markdown",
   "id": "e0d72a78",
   "metadata": {},
   "source": [
    "# 4.Bi-variate Analysis"
   ]
  },
  {
   "cell_type": "markdown",
   "id": "3ff781f9",
   "metadata": {},
   "source": [
    "## a. continuous-continuous"
   ]
  },
  {
   "cell_type": "code",
   "execution_count": null,
   "id": "6bbb84d9",
   "metadata": {},
   "outputs": [],
   "source": [
    "sns.scatterplot(df,x=\"Age\",y=\"Fare\")\n",
    "plt.show()"
   ]
  },
  {
   "cell_type": "code",
   "execution_count": null,
   "id": "dba63458",
   "metadata": {
    "scrolled": true
   },
   "outputs": [],
   "source": [
    "# df.corr() #because data is not clear"
   ]
  },
  {
   "cell_type": "markdown",
   "id": "6ca6c16a",
   "metadata": {},
   "source": [
    "## b. Categorial - continuous variable"
   ]
  },
  {
   "cell_type": "code",
   "execution_count": null,
   "id": "b76e8733",
   "metadata": {},
   "outputs": [],
   "source": [
    "df[\"Age\"].mean()"
   ]
  },
  {
   "cell_type": "code",
   "execution_count": null,
   "id": "d784f34f",
   "metadata": {},
   "outputs": [],
   "source": [
    "df.groupby(\"Sex\")[\"Age\"].mean()"
   ]
  },
  {
   "cell_type": "code",
   "execution_count": null,
   "id": "11609273",
   "metadata": {},
   "outputs": [],
   "source": [
    "sns.barplot(df.groupby(\"Sex\")[\"Age\"].mean())\n",
    "plt.show()"
   ]
  },
  {
   "cell_type": "code",
   "execution_count": null,
   "id": "c2899d1a",
   "metadata": {},
   "outputs": [],
   "source": [
    "from scipy.stats import ttest_ind"
   ]
  },
  {
   "cell_type": "code",
   "execution_count": null,
   "id": "a280f817",
   "metadata": {},
   "outputs": [],
   "source": [
    "males=df[df[\"Sex\"]==\"male\"]\n",
    "females=df[df[\"Sex\"]==\"female\"]"
   ]
  },
  {
   "cell_type": "code",
   "execution_count": 2,
   "id": "2b7a7374",
   "metadata": {},
   "outputs": [
    {
     "ename": "NameError",
     "evalue": "name 'ttest_ind' is not defined",
     "output_type": "error",
     "traceback": [
      "\u001b[1;31m---------------------------------------------------------------------------\u001b[0m",
      "\u001b[1;31mNameError\u001b[0m                                 Traceback (most recent call last)",
      "Cell \u001b[1;32mIn[2], line 1\u001b[0m\n\u001b[1;32m----> 1\u001b[0m ttest_ind(males[\u001b[38;5;124m\"\u001b[39m\u001b[38;5;124mAge\u001b[39m\u001b[38;5;124m\"\u001b[39m],females[\u001b[38;5;124m\"\u001b[39m\u001b[38;5;124mAge\u001b[39m\u001b[38;5;124m\"\u001b[39m], nan_policy\u001b[38;5;241m=\u001b[39m\u001b[38;5;124m'\u001b[39m\u001b[38;5;124momit\u001b[39m\u001b[38;5;124m'\u001b[39m)\n",
      "\u001b[1;31mNameError\u001b[0m: name 'ttest_ind' is not defined"
     ]
    }
   ],
   "source": [
    "ttest_ind(males[\"Age\"],females[\"Age\"], nan_policy='omit')"
   ]
  },
  {
   "cell_type": "code",
   "execution_count": null,
   "id": "18ae7ee4",
   "metadata": {},
   "outputs": [],
   "source": [
    "df['Sex'].value_counts()"
   ]
  },
  {
   "cell_type": "markdown",
   "id": "df59b2e9",
   "metadata": {},
   "source": [
    "## c. categorical - categorical variable"
   ]
  },
  {
   "cell_type": "code",
   "execution_count": null,
   "id": "5e934524",
   "metadata": {},
   "outputs": [],
   "source": [
    "pd.crosstab(df[\"Sex\"],df[\"Survived\"])"
   ]
  },
  {
   "cell_type": "code",
   "execution_count": null,
   "id": "3820cf65",
   "metadata": {},
   "outputs": [],
   "source": [
    "from scipy.stats import chi2_contingency"
   ]
  },
  {
   "cell_type": "code",
   "execution_count": null,
   "id": "ace9a45c",
   "metadata": {},
   "outputs": [],
   "source": [
    "chi2_contingency(pd.crosstab(df[\"Sex\"],df[\"Survived\"]))"
   ]
  },
  {
   "cell_type": "markdown",
   "id": "2a0413e4",
   "metadata": {},
   "source": [
    "# Missing values Treatment"
   ]
  },
  {
   "cell_type": "code",
   "execution_count": null,
   "id": "1ad0ebad",
   "metadata": {},
   "outputs": [],
   "source": [
    "df.isnull()"
   ]
  },
  {
   "cell_type": "code",
   "execution_count": null,
   "id": "6c72f96f",
   "metadata": {},
   "outputs": [],
   "source": [
    "df.isnull().sum()"
   ]
  },
  {
   "cell_type": "markdown",
   "id": "cb846e23",
   "metadata": {},
   "source": [
    "### a. drop all rows whereas there are any missing values"
   ]
  },
  {
   "cell_type": "code",
   "execution_count": null,
   "id": "b91832bb",
   "metadata": {},
   "outputs": [],
   "source": [
    "df.dropna().isnull().sum()"
   ]
  },
  {
   "cell_type": "code",
   "execution_count": null,
   "id": "b5a4fd17",
   "metadata": {},
   "outputs": [],
   "source": [
    "df.dropna().shape"
   ]
  },
  {
   "cell_type": "markdown",
   "id": "e0c44344",
   "metadata": {},
   "source": [
    "### b. dropping rows where all the enteries are missing"
   ]
  },
  {
   "cell_type": "code",
   "execution_count": null,
   "id": "97fa5a44",
   "metadata": {},
   "outputs": [],
   "source": [
    "df.dropna(how=\"all\").shape"
   ]
  },
  {
   "cell_type": "code",
   "execution_count": null,
   "id": "d05ec8df",
   "metadata": {},
   "outputs": [],
   "source": [
    "df.dropna(how=\"all\").isnull().sum()"
   ]
  },
  {
   "cell_type": "markdown",
   "id": "20fbeacd",
   "metadata": {},
   "source": [
    "### c. dropping columns with any missing value"
   ]
  },
  {
   "cell_type": "code",
   "execution_count": null,
   "id": "c2ce2614",
   "metadata": {},
   "outputs": [],
   "source": [
    "df.dropna(axis=\"columns\").shape"
   ]
  },
  {
   "cell_type": "code",
   "execution_count": null,
   "id": "ea0d3b74",
   "metadata": {
    "scrolled": true
   },
   "outputs": [],
   "source": [
    "df.dropna(axis=\"columns\").isnull().sum()"
   ]
  },
  {
   "cell_type": "code",
   "execution_count": null,
   "id": "f85d9f81",
   "metadata": {},
   "outputs": [],
   "source": [
    "df['Sex'].value_counts()"
   ]
  },
  {
   "cell_type": "code",
   "execution_count": null,
   "id": "d7a485c9",
   "metadata": {
    "scrolled": true
   },
   "outputs": [],
   "source": [
    "df.dropna(axis=\"columns\",how=\"all\").shape"
   ]
  },
  {
   "cell_type": "markdown",
   "id": "40659105",
   "metadata": {},
   "source": [
    "### d. fill the missing value"
   ]
  },
  {
   "cell_type": "code",
   "execution_count": null,
   "id": "afd4acca",
   "metadata": {},
   "outputs": [],
   "source": [
    "df.fillna(0)"
   ]
  },
  {
   "cell_type": "code",
   "execution_count": null,
   "id": "d9ead286",
   "metadata": {
    "scrolled": true
   },
   "outputs": [],
   "source": [
    "df.fillna(0).isnull().sum()"
   ]
  },
  {
   "cell_type": "code",
   "execution_count": null,
   "id": "f636985a",
   "metadata": {},
   "outputs": [],
   "source": [
    "df['Sex'].value_counts()"
   ]
  },
  {
   "cell_type": "code",
   "execution_count": null,
   "id": "9f2ae10c",
   "metadata": {
    "scrolled": true
   },
   "outputs": [],
   "source": [
    "df[\"Age\"].fillna(df[\"Age\"].mean(),inplace=True)"
   ]
  },
  {
   "cell_type": "code",
   "execution_count": null,
   "id": "04419bf8",
   "metadata": {},
   "outputs": [],
   "source": [
    "df['Age'].head(20)"
   ]
  },
  {
   "cell_type": "code",
   "execution_count": null,
   "id": "591debe3",
   "metadata": {},
   "outputs": [],
   "source": [
    "df[\"Age\"].mean()"
   ]
  },
  {
   "cell_type": "code",
   "execution_count": null,
   "id": "1cffa3f9",
   "metadata": {},
   "outputs": [],
   "source": [
    "df['Sex'].value_counts()"
   ]
  },
  {
   "cell_type": "markdown",
   "id": "6b5dbf5d",
   "metadata": {},
   "source": [
    "# 6. Outliers Treatment"
   ]
  },
  {
   "cell_type": "markdown",
   "id": "6e0eec4c",
   "metadata": {},
   "source": [
    "### a. univariate outliner "
   ]
  },
  {
   "cell_type": "code",
   "execution_count": null,
   "id": "fd0f4079",
   "metadata": {},
   "outputs": [],
   "source": [
    "sns.boxplot(df[\"Age\"])\n",
    "plt.show()"
   ]
  },
  {
   "cell_type": "markdown",
   "id": "510c81e3",
   "metadata": {},
   "source": [
    "### b. bivariate outlier detection"
   ]
  },
  {
   "cell_type": "code",
   "execution_count": null,
   "id": "d67cea36",
   "metadata": {},
   "outputs": [],
   "source": [
    "sns.scatterplot(df,x=\"Age\",y=\"Fare\")\n",
    "plt.show()"
   ]
  },
  {
   "cell_type": "markdown",
   "id": "fd244d7f",
   "metadata": {},
   "source": [
    "## Removing the outlier"
   ]
  },
  {
   "cell_type": "code",
   "execution_count": null,
   "id": "5e85f458",
   "metadata": {},
   "outputs": [],
   "source": [
    "df=df[df[\"Fare\"]<300]"
   ]
  },
  {
   "cell_type": "code",
   "execution_count": null,
   "id": "c913c23a",
   "metadata": {
    "scrolled": true
   },
   "outputs": [],
   "source": [
    "df.loc[df[\"Age\"]>65]=df[\"Age\"].mean()"
   ]
  },
  {
   "cell_type": "code",
   "execution_count": null,
   "id": "9889d2e1",
   "metadata": {},
   "outputs": [],
   "source": [
    "df['Sex'].value_counts()"
   ]
  },
  {
   "cell_type": "code",
   "execution_count": null,
   "id": "85f2d124",
   "metadata": {},
   "outputs": [],
   "source": [
    "sns.boxplot(df[\"Age\"])\n",
    "plt.show()"
   ]
  },
  {
   "cell_type": "code",
   "execution_count": null,
   "id": "cb2604b7",
   "metadata": {},
   "outputs": [],
   "source": [
    "sns.scatterplot(df,x=\"Age\",y=\"Fare\")\n",
    "plt.show()"
   ]
  },
  {
   "cell_type": "markdown",
   "id": "c00f423c",
   "metadata": {},
   "source": [
    "# 7. Variable Transformation"
   ]
  },
  {
   "cell_type": "code",
   "execution_count": null,
   "id": "c005453f",
   "metadata": {
    "scrolled": true
   },
   "outputs": [],
   "source": [
    "df['Sex'].value_counts()"
   ]
  },
  {
   "cell_type": "code",
   "execution_count": null,
   "id": "1841e1a0",
   "metadata": {},
   "outputs": [],
   "source": [
    "from sklearn.preprocessing import LabelEncoder, StandardScaler\n",
    "df=df.drop(columns=['Cabin'])\n",
    "le = LabelEncoder()\n",
    "df = pd.get_dummies(df, columns=['Embarked'], drop_first=True)"
   ]
  },
  {
   "cell_type": "code",
   "execution_count": null,
   "id": "0dc297cc",
   "metadata": {},
   "outputs": [],
   "source": [
    "from sklearn.model_selection import train_test_split"
   ]
  },
  {
   "cell_type": "code",
   "execution_count": null,
   "id": "a7c3e1da",
   "metadata": {},
   "outputs": [],
   "source": [
    "scaler = StandardScaler()\n",
    "df[['Age', 'Fare']] = scaler.fit_transform(df[['Age', 'Fare']])"
   ]
  },
  {
   "cell_type": "code",
   "execution_count": null,
   "id": "cd32cd24",
   "metadata": {},
   "outputs": [],
   "source": [
    "\n",
    "ta = df.drop(columns=['Name', 'Ticket', 'PassengerId'])\n",
    "\n",
    "X = ta.drop('Survived', axis=1)\n",
    "y = ta['Survived']\n",
    "\n",
    "X_train, X_test, y_train, y_test = train_test_split(X, y, test_size=0.2, random_state=42)"
   ]
  },
  {
   "cell_type": "code",
   "execution_count": null,
   "id": "df623384",
   "metadata": {},
   "outputs": [],
   "source": [
    "from sklearn.linear_model import LogisticRegression\n",
    "from sklearn.metrics import accuracy_score, confusion_matrix, classification_report\n",
    "\n",
    "model = LogisticRegression(max_iter=1000, random_state=42)\n",
    "\n",
    "\n",
    "model.fit(X_train, y_train)\n"
   ]
  },
  {
   "cell_type": "code",
   "execution_count": 3,
   "id": "d1ee12ef",
   "metadata": {},
   "outputs": [
    {
     "data": {
      "text/plain": [
       "'C:\\\\Users\\\\mohit\\\\Python\\\\Mechine learning'"
      ]
     },
     "execution_count": 3,
     "metadata": {},
     "output_type": "execute_result"
    }
   ],
   "source": [
    "import os\n",
    "\n",
    "os.getcwd() "
   ]
  },
  {
   "cell_type": "code",
   "execution_count": null,
   "id": "88183bc5",
   "metadata": {},
   "outputs": [],
   "source": []
  }
 ],
 "metadata": {
  "kernelspec": {
   "display_name": "Python 3 (ipykernel)",
   "language": "python",
   "name": "python3"
  },
  "language_info": {
   "codemirror_mode": {
    "name": "ipython",
    "version": 3
   },
   "file_extension": ".py",
   "mimetype": "text/x-python",
   "name": "python",
   "nbconvert_exporter": "python",
   "pygments_lexer": "ipython3",
   "version": "3.11.5"
  }
 },
 "nbformat": 4,
 "nbformat_minor": 5
}
